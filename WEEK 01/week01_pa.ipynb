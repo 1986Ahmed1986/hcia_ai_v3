{
 "cells": [
  {
   "cell_type": "markdown",
   "metadata": {},
   "source": [
    "# Programming assignment (Linear models, Optimization)\n",
    "\n",
    "In this programming assignment you will implement a linear classifier and train it using stochastic gradient descent modifications and numpy."
   ]
  },
  {
   "cell_type": "code",
   "execution_count": 83,
   "metadata": {
    "collapsed": true
   },
   "outputs": [],
   "source": [
    "import numpy as np\n",
    "%matplotlib inline\n",
    "import matplotlib.pyplot as plt"
   ]
  },
  {
   "cell_type": "code",
   "execution_count": 84,
   "metadata": {
    "collapsed": true
   },
   "outputs": [],
   "source": [
    "import sys\n",
    "sys.path.append(\"..\")\n",
    "import grading\n",
    "grader = grading.Grader(assignment_key=\"UaHtvpEFEee0XQ6wjK-hZg\", \n",
    "                      all_parts=[\"xU7U4\", \"HyTF6\", \"uNidL\", \"ToK7N\", \"GBdgZ\", \"dLdHG\"])"
   ]
  },
  {
   "cell_type": "code",
   "execution_count": 66,
   "metadata": {
    "collapsed": true
   },
   "outputs": [],
   "source": [
    "# token expires every 30 min\n",
    "COURSERA_TOKEN = \"zLs0R3F15PlxmMqt\"\n",
    "COURSERA_EMAIL = \"roumaneahmed@gmail.com\""
   ]
  },
  {
   "cell_type": "markdown",
   "metadata": {},
   "source": [
    "## Two-dimensional classification\n",
    "\n",
    "To make things more intuitive, let's solve a 2D classification problem with synthetic data."
   ]
  },
  {
   "cell_type": "code",
   "execution_count": 4,
   "metadata": {
    "collapsed": true,
    "scrolled": true
   },
   "outputs": [],
   "source": [
    "with open('train.npy', 'rb') as fin:\n",
    "    X = np.load(fin)\n",
    "    \n",
    "with open('target.npy', 'rb') as fin:\n",
    "    y = np.load(fin)\n",
    "\n",
    "#plt.scatter(X[:, 0], X[:, 1], c=y, cmap=plt.cm.Paired, s=20)\n",
    "#plt.show()"
   ]
  },
  {
   "cell_type": "markdown",
   "metadata": {},
   "source": [
    "# Task\n",
    "\n",
    "## Features\n",
    "\n",
    "As you can notice the data above isn't linearly separable. Since that we should add features (or use non-linear model). Note that decision line between two classes have form of circle, since that we can add quadratic features to make the problem linearly separable. The idea under this displayed on image below:\n",
    "\n",
    "![](kernel.png)"
   ]
  },
  {
   "cell_type": "code",
   "execution_count": 38,
   "metadata": {
    "collapsed": true
   },
   "outputs": [],
   "source": [
    "def expand(X):\n",
    "    \"\"\"\n",
    "    Adds quadratic features. \n",
    "    This expansion allows your linear model to make non-linear separation.\n",
    "    \n",
    "    For each sample (row in matrix), compute an expanded row:\n",
    "    [feature0, feature1, feature0^2, feature1^2, feature0*feature1, 1]\n",
    "    \n",
    "    :param X: matrix of features, shape [n_samples,2]\n",
    "    :returns: expanded features of shape [n_samples,6]\n",
    "    \"\"\"\n",
    "    X_expanded = np.zeros((X.shape[0], 6))\n",
    "    \n",
    "    # TODO:<your code here>\n",
    "    #print(\"expand X.shape is : \", X.shape)\n",
    "    t=0\n",
    "    for i in range(len(X)):\n",
    "        X_expanded[i,0]= X[i,0]\n",
    "        X_expanded[i,1]= X[i,1]\n",
    "        X_expanded[i,2]= X[i,0]*X[i,0]\n",
    "        X_expanded[i,3]= X[i,1]*X[i,1]\n",
    "        X_expanded[i,4]= X[i,0]*X[i,1]\n",
    "        X_expanded[i,5]= 1\n",
    "        t +=1\n",
    "    \n",
    "    return(X_expanded)"
   ]
  },
  {
   "cell_type": "code",
   "execution_count": 39,
   "metadata": {
    "collapsed": true
   },
   "outputs": [],
   "source": [
    "X_expanded = expand(X)"
   ]
  },
  {
   "cell_type": "markdown",
   "metadata": {},
   "source": [
    "Here are some tests for your implementation of `expand` function."
   ]
  },
  {
   "cell_type": "code",
   "execution_count": 40,
   "metadata": {},
   "outputs": [
    {
     "name": "stdout",
     "output_type": "stream",
     "text": [
      "Seems legit!\n"
     ]
    }
   ],
   "source": [
    "# simple test on random numbers\n",
    "\n",
    "dummy_X = np.array([\n",
    "        [0,0],\n",
    "        [1,0],\n",
    "        [2.61,-1.28],\n",
    "        [-0.59,2.1]\n",
    "    ])\n",
    "\n",
    "# call your expand function\n",
    "dummy_expanded = expand(dummy_X)\n",
    "\n",
    "# what it should have returned:   x0       x1       x0^2     x1^2     x0*x1    1\n",
    "dummy_expanded_ans = np.array([[ 0.    ,  0.    ,  0.    ,  0.    ,  0.    ,  1.    ],\n",
    "                               [ 1.    ,  0.    ,  1.    ,  0.    ,  0.    ,  1.    ],\n",
    "                               [ 2.61  , -1.28  ,  6.8121,  1.6384, -3.3408,  1.    ],\n",
    "                               [-0.59  ,  2.1   ,  0.3481,  4.41  , -1.239 ,  1.    ]])\n",
    "\n",
    "#tests\n",
    "assert isinstance(dummy_expanded,np.ndarray), \"please make sure you return numpy array\"\n",
    "assert dummy_expanded.shape == dummy_expanded_ans.shape, \"please make sure your shape is correct\"\n",
    "assert np.allclose(dummy_expanded,dummy_expanded_ans,1e-3), \"Something's out of order with features\"\n",
    "\n",
    "print(\"Seems legit!\")\n"
   ]
  },
  {
   "cell_type": "markdown",
   "metadata": {},
   "source": [
    "## Logistic regression\n",
    "\n",
    "To classify objects we will obtain probability of object belongs to class '1'. To predict probability we will use output of linear model and logistic function:\n",
    "\n",
    "$$ a(x; w) = \\langle w, x \\rangle $$\n",
    "$$ P( y=1 \\; \\big| \\; x, \\, w) = \\dfrac{1}{1 + \\exp(- \\langle w, x \\rangle)} = \\sigma(\\langle w, x \\rangle)$$\n"
   ]
  },
  {
   "cell_type": "code",
   "execution_count": 41,
   "metadata": {
    "collapsed": true
   },
   "outputs": [],
   "source": [
    "def probability(X, w):\n",
    "    \"\"\"\n",
    "    Given input features and weights\n",
    "    return predicted probabilities of y==1 given x, P(y=1|x), see description above\n",
    "        \n",
    "    Don't forget to use expand(X) function (where necessary) in this and subsequent functions.\n",
    "    \n",
    "    :param X: feature matrix X of shape [n_samples,6] (expanded)\n",
    "    :param w: weight vector w of shape [6] for each of the expanded features\n",
    "    :returns: an array of predicted probabilities in [0,1] interval.\n",
    "    \"\"\"\n",
    "\n",
    "    # TODO:<your code here>\n",
    "    from math import exp\n",
    "   #  print(\"probability : X.shape=\", X.shape)\n",
    "    x1=expand(X)\n",
    "    # print(\"probability : X1.shape=\", x1.shape)\n",
    "    P_y_is_1_giv_x = np.zeros((x1.shape[0]))\n",
    "   #  print((P_y_is_1_giv_x.shape))\n",
    "    for i in range(x1.shape[0]):\n",
    "        w_dot_x=0\n",
    "        for j in range(len(w)):\n",
    "            w_dot_x += w[j]*x1[i,j]\n",
    "        P_y_is_1_giv_x[i] = 1/(1+exp(-(w_dot_x)))\n",
    "    \n",
    "    return(P_y_is_1_giv_x)\n",
    "    \n",
    "    "
   ]
  },
  {
   "cell_type": "code",
   "execution_count": 42,
   "metadata": {
    "collapsed": true
   },
   "outputs": [],
   "source": [
    "dummy_weights = np.linspace(-1, 1, 6)\n",
    "ans_part1 = probability(X_expanded[:1, :], dummy_weights)[0]"
   ]
  },
  {
   "cell_type": "code",
   "execution_count": 43,
   "metadata": {
    "collapsed": true
   },
   "outputs": [],
   "source": [
    "## GRADED PART, DO NOT CHANGE!\n",
    "grader.set_answer(\"xU7U4\", ans_part1)"
   ]
  },
  {
   "cell_type": "code",
   "execution_count": 44,
   "metadata": {},
   "outputs": [
    {
     "name": "stdout",
     "output_type": "stream",
     "text": [
      "Submitted to Coursera platform. See results on assignment page!\n"
     ]
    }
   ],
   "source": [
    "# you can make submission with answers so far to check yourself at this stage\n",
    "grader.submit(COURSERA_EMAIL, COURSERA_TOKEN)"
   ]
  },
  {
   "cell_type": "markdown",
   "metadata": {},
   "source": [
    "In logistic regression the optimal parameters $w$ are found by cross-entropy minimization:\n",
    "\n",
    "Loss for one sample: $$ l(x_i, y_i, w) = - \\left[ {y_i \\cdot log P(y_i = 1 \\, | \\, x_i,w) + (1-y_i) \\cdot log (1-P(y_i = 1\\, | \\, x_i,w))}\\right] $$\n",
    "\n",
    "Loss for many samples: $$ L(X, \\vec{y}, w) =  {1 \\over \\ell} \\sum_{i=1}^\\ell l(x_i, y_i, w) $$\n",
    "\n"
   ]
  },
  {
   "cell_type": "code",
   "execution_count": 45,
   "metadata": {
    "collapsed": true
   },
   "outputs": [],
   "source": [
    "def compute_loss(X, y, w):\n",
    "    \"\"\"\n",
    "    Given feature matrix X [n_samples,6], target vector [n_samples] of 1/0,\n",
    "    and weight vector w [6], compute scalar loss function L using formula above.\n",
    "    Keep in mind that our loss is averaged over all samples (rows) in X.\n",
    "    \"\"\"\n",
    "    # TODO:<your code here>\n",
    "    from math import exp, log\n",
    "    # print(\"compute_loss : X.shape=\", X.shape)\n",
    "     #print(\"y.shape\", y.shape)\n",
    "     #print(\"w.shape\", w.shape)\n",
    "    \n",
    "    PROB = probability(X, w)\n",
    "     #print(PROB.shape)\n",
    "    L = 0\n",
    "    for i in range(X.shape[0]): \n",
    "        #print(\"i: \", i, \"\\n\")\n",
    "        L -= (y[i]*log(PROB[i]) + (1-y[i])*log(1-PROB[i]))/X.shape[0]\n",
    "            \n",
    "              \n",
    "        \n",
    "     #print(\"compute_loss\", (L))\n",
    "    return(L)\n",
    "    \n",
    "    "
   ]
  },
  {
   "cell_type": "code",
   "execution_count": 46,
   "metadata": {
    "collapsed": true
   },
   "outputs": [],
   "source": [
    "# use output of this cell to fill answer field \n",
    "ans_part2 = compute_loss(X_expanded, y, dummy_weights)"
   ]
  },
  {
   "cell_type": "code",
   "execution_count": 47,
   "metadata": {
    "collapsed": true
   },
   "outputs": [],
   "source": [
    "## GRADED PART, DO NOT CHANGE!\n",
    "grader.set_answer(\"HyTF6\", ans_part2)"
   ]
  },
  {
   "cell_type": "code",
   "execution_count": 48,
   "metadata": {},
   "outputs": [
    {
     "name": "stdout",
     "output_type": "stream",
     "text": [
      "Submitted to Coursera platform. See results on assignment page!\n"
     ]
    }
   ],
   "source": [
    "# you can make submission with answers so far to check yourself at this stage\n",
    "grader.submit(COURSERA_EMAIL, COURSERA_TOKEN)"
   ]
  },
  {
   "cell_type": "markdown",
   "metadata": {},
   "source": [
    "Since we train our model with gradient descent, we should compute gradients.\n",
    "\n",
    "To be specific, we need a derivative of loss function over each weight [6 of them].\n",
    "\n",
    "$$ \\nabla_w L = {1 \\over \\ell} \\sum_{i=1}^\\ell \\nabla_w l(x_i, y_i, w) $$ \n",
    "\n",
    "We won't be giving you the exact formula this time — instead, try figuring out a derivative with pen and paper. \n",
    "\n",
    "As usual, we've made a small test for you, but if you need more, feel free to check your math against finite differences (estimate how $L$ changes if you shift $w$ by $10^{-5}$ or so)."
   ]
  },
  {
   "cell_type": "code",
   "execution_count": 60,
   "metadata": {
    "collapsed": true
   },
   "outputs": [],
   "source": [
    "def compute_grad(X, y, w):\n",
    "    \"\"\"\n",
    "    Given feature matrix X [n_samples,6], target vector [n_samples] of 1/0,\n",
    "    and weight vector w [6], compute vector [6] of derivatives of L over each weights.\n",
    "    Keep in mind that our loss is averaged over all samples (rows) in X.\n",
    "    \"\"\"\n",
    "    \n",
    "    # TODO<your code here>\n",
    "    from math import exp\n",
    "    print(\"compute_grad : X.shape=\", X.shape[0])\n",
    "    \n",
    "    grad_L  = np.zeros((w.shape))\n",
    "    w_dot_x = np.zeros((X.shape[0]))\n",
    "    #print((P_y_is_1_giv_x.shape))\n",
    "    \n",
    "    \n",
    "    \n",
    "    for i in range(X.shape[0]):\n",
    "        for j in range(len(w)):\n",
    "            w_dot_x[i] += w[j]*X[i,j]\n",
    "        \n",
    "        for j in range(len(w)):\n",
    "            g=0\n",
    "            for i in range(X.shape[0]):  \n",
    "                g -= (X[i,j]*(y[i]- 1/(1+exp(-(w_dot_x[i])))))/X.shape[0]\n",
    "            grad_L[j]=g\n",
    "\n",
    "            \n",
    "            \n",
    "     #print(w_dot_x.shape)\n",
    "     #print(grad_L) \n",
    "    return(grad_L)"
   ]
  },
  {
   "cell_type": "code",
   "execution_count": 50,
   "metadata": {},
   "outputs": [],
   "source": [
    "# use output of this cell to fill answer field \n",
    "ans_part3 = np.linalg.norm(compute_grad(X_expanded, y, dummy_weights))"
   ]
  },
  {
   "cell_type": "code",
   "execution_count": 51,
   "metadata": {
    "collapsed": true
   },
   "outputs": [],
   "source": [
    "## GRADED PART, DO NOT CHANGE!\n",
    "grader.set_answer(\"uNidL\", ans_part3)"
   ]
  },
  {
   "cell_type": "code",
   "execution_count": 52,
   "metadata": {
    "scrolled": true
   },
   "outputs": [
    {
     "name": "stdout",
     "output_type": "stream",
     "text": [
      "Submitted to Coursera platform. See results on assignment page!\n"
     ]
    }
   ],
   "source": [
    "# you can make submission with answers so far to check yourself at this stage\n",
    "grader.submit(COURSERA_EMAIL, COURSERA_TOKEN)"
   ]
  },
  {
   "cell_type": "markdown",
   "metadata": {},
   "source": [
    "Here's an auxiliary function that visualizes the predictions:"
   ]
  },
  {
   "cell_type": "code",
   "execution_count": 53,
   "metadata": {
    "collapsed": true
   },
   "outputs": [],
   "source": [
    "from IPython import display\n",
    "\n",
    "h = 0.01\n",
    "x_min, x_max = X[:, 0].min() - 1, X[:, 0].max() + 1\n",
    "y_min, y_max = X[:, 1].min() - 1, X[:, 1].max() + 1\n",
    "xx, yy = np.meshgrid(np.arange(x_min, x_max, h), np.arange(y_min, y_max, h))\n",
    "\n",
    "def visualize(X, y, w, history):\n",
    "    \"\"\"draws classifier prediction with matplotlib magic\"\"\"\n",
    "    Z = probability(expand(np.c_[xx.ravel(), yy.ravel()]), w)\n",
    "    Z = Z.reshape(xx.shape)\n",
    "    plt.subplot(1, 2, 1)\n",
    "    plt.contourf(xx, yy, Z, alpha=0.8)\n",
    "    plt.scatter(X[:, 0], X[:, 1], c=y, cmap=plt.cm.Paired)\n",
    "    plt.xlim(xx.min(), xx.max())\n",
    "    plt.ylim(yy.min(), yy.max())\n",
    "    \n",
    "    plt.subplot(1, 2, 2)\n",
    "    plt.plot(history)\n",
    "    plt.grid()\n",
    "    ymin, ymax = plt.ylim()\n",
    "    plt.ylim(0, ymax)\n",
    "    display.clear_output(wait=True)\n",
    "    plt.show()"
   ]
  },
  {
   "cell_type": "code",
   "execution_count": null,
   "metadata": {
    "collapsed": true
   },
   "outputs": [],
   "source": [
    "visualize(X, y, dummy_weights, [0.5, 0.5, 0.25])"
   ]
  },
  {
   "cell_type": "markdown",
   "metadata": {},
   "source": [
    "## Training\n",
    "In this section we'll use the functions you wrote to train our classifier using stochastic gradient descent.\n",
    "\n",
    "You can try change hyperparameters like batch size, learning rate and so on to find the best one, but use our hyperparameters when fill answers."
   ]
  },
  {
   "cell_type": "markdown",
   "metadata": {},
   "source": [
    "## Mini-batch SGD\n",
    "\n",
    "Stochastic gradient descent just takes a random batch of $m$ samples on each iteration, calculates a gradient of the loss on it and makes a step:\n",
    "$$ w_t = w_{t-1} - \\eta \\dfrac{1}{m} \\sum_{j=1}^m \\nabla_w l(x_{i_j}, y_{i_j}, w_t) $$\n",
    "\n"
   ]
  },
  {
   "cell_type": "code",
   "execution_count": 62,
   "metadata": {},
   "outputs": [
    {
     "data": {
      "image/png": "[encoded data removed]",
      "text/plain": [
       "<matplotlib.figure.Figure at 0x7fcbbd88cb00>"
      ]
     },
     "metadata": {},
     "output_type": "display_data"
    },
    {
     "data": {
      "text/plain": [
       "<matplotlib.figure.Figure at 0x7fcbbb0a5518>"
      ]
     },
     "metadata": {},
     "output_type": "display_data"
    }
   ],
   "source": [
    "# please use np.random.seed(42), eta=0.1, n_iter=100 and batch_size=4 for deterministic results\n",
    "\n",
    "np.random.seed(42)\n",
    "w = np.array([0, 0, 0, 0, 0, 1])\n",
    "eta= 0.1 # learning rate\n",
    "n_iter = 100\n",
    "batch_size = 4\n",
    "loss = np.zeros(n_iter)\n",
    "plt.figure(figsize=(12, 5))\n",
    "\n",
    "for i in range(n_iter):\n",
    "    \n",
    "    ind = np.random.choice(X_expanded.shape[0], batch_size)\n",
    "    loss[i] = compute_loss(X_expanded, y, w)\n",
    "    if i % 10 == 0:\n",
    "        visualize(X_expanded[ind, :], y[ind], w, loss)\n",
    "\n",
    "    # Keep in mind that compute_grad already does averaging over batch for you!\n",
    "    # TODO:<your code here>\n",
    "    w.dtype = np.float64   \n",
    "    grad_this_L=compute_grad(X_expanded[ind], y[ind], w)\n",
    "    for j in range(len(w)):\n",
    "        w[j] = w[j] - eta*grad_this_L[j]\n",
    "    print(i)    \n",
    "        \n",
    "\n",
    "\n",
    "    \n",
    "    \n",
    "    \n",
    "visualize(X, y, w, loss)\n",
    "plt.clf()"
   ]
  },
  {
   "cell_type": "code",
   "execution_count": 63,
   "metadata": {},
   "outputs": [],
   "source": [
    "# use output of this cell to fill answer field \n",
    "\n",
    "ans_part4 = compute_loss(X_expanded, y, w)"
   ]
  },
  {
   "cell_type": "code",
   "execution_count": 67,
   "metadata": {
    "collapsed": true
   },
   "outputs": [],
   "source": [
    "## GRADED PART, DO NOT CHANGE!\n",
    "grader.set_answer(\"ToK7N\", ans_part4)"
   ]
  },
  {
   "cell_type": "code",
   "execution_count": 68,
   "metadata": {},
   "outputs": [
    {
     "name": "stdout",
     "output_type": "stream",
     "text": [
      "Submitted to Coursera platform. See results on assignment page!\n"
     ]
    }
   ],
   "source": [
    "# you can make submission with answers so far to check yourself at this stage\n",
    "grader.submit(COURSERA_EMAIL, COURSERA_TOKEN)"
   ]
  },
  {
   "cell_type": "markdown",
   "metadata": {},
   "source": [
    "## SGD with momentum\n",
    "\n",
    "Momentum is a method that helps accelerate SGD in the relevant direction and dampens oscillations as can be seen in image below. It does this by adding a fraction $\\alpha$ of the update vector of the past time step to the current update vector.\n",
    "<br>\n",
    "<br>\n",
    "\n",
    "$$ \\nu_t = \\alpha \\nu_{t-1} + \\eta\\dfrac{1}{m} \\sum_{j=1}^m \\nabla_w l(x_{i_j}, y_{i_j}, w_t) $$\n",
    "$$ w_t = w_{t-1} - \\nu_t$$\n",
    "\n",
    "<br>\n",
    "\n",
    "\n",
    "![](sgd.png)\n"
   ]
  },
  {
   "cell_type": "code",
   "execution_count": 74,
   "metadata": {},
   "outputs": [
    {
     "data": {
      "image/png": "[encoded data removed]",
      "text/plain": [
       "<matplotlib.figure.Figure at 0x7fcbbd9b85c0>"
      ]
     },
     "metadata": {},
     "output_type": "display_data"
    },
    {
     "data": {
      "text/plain": [
       "<matplotlib.figure.Figure at 0x7fcbc28f2be0>"
      ]
     },
     "metadata": {},
     "output_type": "display_data"
    }
   ],
   "source": [
    "# please use np.random.seed(42), eta=0.05, alpha=0.9, n_iter=100 and batch_size=4 for deterministic results\n",
    "np.random.seed(42)\n",
    "w = np.array([0, 0, 0, 0, 0, 1])\n",
    "\n",
    "eta = 0.05 # learning rate\n",
    "alpha = 0.9 # momentum\n",
    "nu = np.zeros_like(w)\n",
    "\n",
    "n_iter = 100\n",
    "batch_size = 4\n",
    "loss = np.zeros(n_iter)\n",
    "plt.figure(figsize=(12, 5))\n",
    "\n",
    "for i in range(n_iter):\n",
    "    ind = np.random.choice(X_expanded.shape[0], batch_size)\n",
    "    loss[i] = compute_loss(X_expanded, y, w)\n",
    "    if i % 10 == 0:\n",
    "        visualize(X_expanded[ind, :], y[ind], w, loss)\n",
    "\n",
    "    # TODO:<your code here>\n",
    "    w.dtype = np.float64 \n",
    "    nu.dtype = np.float64 \n",
    "    grad_2_L=compute_grad(X_expanded[ind], y[ind], w)\n",
    "    for j in range(len(w)):\n",
    "        nu[j] = alpha*nu[j] + eta*grad_2_L[j]\n",
    "        w[j] = w[j] - nu[j]\n",
    "    print(i)    \n",
    "        \n",
    "\n",
    "    if i % 10 == 0: \n",
    "        print((w))\n",
    "    \n",
    "visualize(X, y, w, loss)\n",
    "plt.clf()"
   ]
  },
  {
   "cell_type": "code",
   "execution_count": 75,
   "metadata": {
    "collapsed": true
   },
   "outputs": [],
   "source": [
    "# use output of this cell to fill answer field \n",
    "\n",
    "ans_part5 = compute_loss(X_expanded, y, w)"
   ]
  },
  {
   "cell_type": "code",
   "execution_count": 85,
   "metadata": {},
   "outputs": [
    {
     "name": "stdout",
     "output_type": "stream",
     "text": [
      "2.0\n"
     ]
    }
   ],
   "source": [
    "## GRADED PART, DO NOT CHANGE!\n",
    "grader.set_answer(\"GBdgZ\", ans_part5)"
   ]
  },
  {
   "cell_type": "code",
   "execution_count": 77,
   "metadata": {},
   "outputs": [
    {
     "name": "stdout",
     "output_type": "stream",
     "text": [
      "Submitted to Coursera platform. See results on assignment page!\n"
     ]
    }
   ],
   "source": [
    "# you can make submission with answers so far to check yourself at this stage\n",
    "grader.submit(COURSERA_EMAIL, COURSERA_TOKEN)"
   ]
  },
  {
   "cell_type": "markdown",
   "metadata": {},
   "source": [
    "## RMSprop\n",
    "\n",
    "Implement RMSPROP algorithm, which use squared gradients to adjust learning rate:\n",
    "\n",
    "$$ G_j^t = \\alpha G_j^{t-1} + (1 - \\alpha) g_{tj}^2 $$\n",
    "$$ w_j^t = w_j^{t-1} - \\dfrac{\\eta}{\\sqrt{G_j^t + \\varepsilon}} g_{tj} $$"
   ]
  },
  {
   "cell_type": "code",
   "execution_count": 86,
   "metadata": {},
   "outputs": [
    {
     "data": {
      "image/png": "[encoded data removed]",
      "text/plain": [
       "<matplotlib.figure.Figure at 0x7fcbbda942e8>"
      ]
     },
     "metadata": {},
     "output_type": "display_data"
    },
    {
     "name": "stdout",
     "output_type": "stream",
     "text": [
      "compute_grad : X.shape= 4\n"
     ]
    },
    {
     "ename": "NameError",
     "evalue": "name 'G' is not defined",
     "output_type": "error",
     "traceback": [
      "\u001b[0;31m---------------------------------------------------------------------------\u001b[0m",
      "\u001b[0;31mNameError\u001b[0m                                 Traceback (most recent call last)",
      "\u001b[0;32m<ipython-input-86-dfc8eb24afe4>\u001b[0m in \u001b[0;36m<module>\u001b[0;34m()\u001b[0m\n\u001b[1;32m     24\u001b[0m     \u001b[0mgrad_3_L\u001b[0m\u001b[0;34m=\u001b[0m\u001b[0mcompute_grad\u001b[0m\u001b[0;34m(\u001b[0m\u001b[0mX_expanded\u001b[0m\u001b[0;34m[\u001b[0m\u001b[0mind\u001b[0m\u001b[0;34m]\u001b[0m\u001b[0;34m,\u001b[0m \u001b[0my\u001b[0m\u001b[0;34m[\u001b[0m\u001b[0mind\u001b[0m\u001b[0;34m]\u001b[0m\u001b[0;34m,\u001b[0m \u001b[0mw\u001b[0m\u001b[0;34m)\u001b[0m\u001b[0;34m\u001b[0m\u001b[0m\n\u001b[1;32m     25\u001b[0m     \u001b[0;32mfor\u001b[0m \u001b[0mj\u001b[0m \u001b[0;32min\u001b[0m \u001b[0mrange\u001b[0m\u001b[0;34m(\u001b[0m\u001b[0mlen\u001b[0m\u001b[0;34m(\u001b[0m\u001b[0mw\u001b[0m\u001b[0;34m)\u001b[0m\u001b[0;34m)\u001b[0m\u001b[0;34m:\u001b[0m\u001b[0;34m\u001b[0m\u001b[0m\n\u001b[0;32m---> 26\u001b[0;31m         \u001b[0mG\u001b[0m\u001b[0;34m[\u001b[0m\u001b[0mj\u001b[0m\u001b[0;34m]\u001b[0m \u001b[0;34m=\u001b[0m \u001b[0malpha\u001b[0m\u001b[0;34m*\u001b[0m\u001b[0mG\u001b[0m\u001b[0;34m[\u001b[0m\u001b[0mj\u001b[0m\u001b[0;34m]\u001b[0m \u001b[0;34m+\u001b[0m \u001b[0;34m(\u001b[0m\u001b[0;36m1\u001b[0m\u001b[0;34m-\u001b[0m\u001b[0malpha\u001b[0m\u001b[0;34m)\u001b[0m\u001b[0;34m*\u001b[0m\u001b[0;34m(\u001b[0m\u001b[0mgrad_3_L\u001b[0m\u001b[0;34m[\u001b[0m\u001b[0mj\u001b[0m\u001b[0;34m]\u001b[0m\u001b[0;34m**\u001b[0m\u001b[0;36m2\u001b[0m\u001b[0;34m)\u001b[0m\u001b[0;34m\u001b[0m\u001b[0m\n\u001b[0m\u001b[1;32m     27\u001b[0m         \u001b[0mw\u001b[0m\u001b[0;34m[\u001b[0m\u001b[0mj\u001b[0m\u001b[0;34m]\u001b[0m \u001b[0;34m=\u001b[0m \u001b[0mw\u001b[0m\u001b[0;34m[\u001b[0m\u001b[0mj\u001b[0m\u001b[0;34m]\u001b[0m\u001b[0;34m-\u001b[0m \u001b[0meta\u001b[0m\u001b[0;34m*\u001b[0m\u001b[0mgrad_3_L\u001b[0m\u001b[0;34m[\u001b[0m\u001b[0mj\u001b[0m\u001b[0;34m]\u001b[0m\u001b[0;34m/\u001b[0m\u001b[0;34m(\u001b[0m\u001b[0msqrt\u001b[0m\u001b[0;34m(\u001b[0m\u001b[0mG\u001b[0m\u001b[0;34m[\u001b[0m\u001b[0mj\u001b[0m\u001b[0;34m]\u001b[0m\u001b[0;34m+\u001b[0m\u001b[0meps\u001b[0m\u001b[0;34m)\u001b[0m\u001b[0;34m)\u001b[0m\u001b[0;34m\u001b[0m\u001b[0m\n\u001b[1;32m     28\u001b[0m \u001b[0;34m\u001b[0m\u001b[0m\n",
      "\u001b[0;31mNameError\u001b[0m: name 'G' is not defined"
     ]
    }
   ],
   "source": [
    "# please use np.random.seed(42), eta=0.1, alpha=0.9, n_iter=100 and batch_size=4 for deterministic results\n",
    "np.random.seed(42)\n",
    "from math import sqrt\n",
    "w = np.array([0, 0, 0, 0, 0, 1.])\n",
    "\n",
    "eta = 0.1 # learning rate\n",
    "alpha = 0.9 # moving average of gradient norm squared\n",
    "g2 = None # we start with None so that you can update this value correctly on the first iteration\n",
    "eps = 1e-8\n",
    "\n",
    "n_iter = 100\n",
    "batch_size = 4\n",
    "loss = np.zeros(n_iter)\n",
    "G = np.zeros(n_iter)\n",
    "plt.figure(figsize=(12,5))\n",
    "for i in range(n_iter):\n",
    "    ind = np.random.choice(X_expanded.shape[0], batch_size)\n",
    "    loss[i] = compute_loss(X_expanded, y, w)\n",
    "    if i % 10 == 0:\n",
    "        visualize(X_expanded[ind, :], y[ind], w, loss)\n",
    "\n",
    "    # TODO:<your code here>\n",
    "    w.dtype = np.float64 \n",
    "     \n",
    "    grad_3_L=compute_grad(X_expanded[ind], y[ind], w)\n",
    "    for j in range(len(w)):\n",
    "        G[j] = alpha*G[j] + (1-alpha)*(grad_3_L[j]**2) \n",
    "        w[j] = w[j]- eta*grad_3_L[j]/(sqrt(G[j]+eps))\n",
    "\n",
    "\n",
    "    if i % 10 == 0: \n",
    "        print((w))\n",
    "\n",
    "visualize(X, y, w, loss)\n",
    "plt.clf()"
   ]
  },
  {
   "cell_type": "code",
   "execution_count": null,
   "metadata": {
    "collapsed": true
   },
   "outputs": [],
   "source": [
    "# use output of this cell to fill answer field \n",
    "ans_part6 = compute_loss(X_expanded, y, w)"
   ]
  },
  {
   "cell_type": "code",
   "execution_count": null,
   "metadata": {
    "collapsed": true
   },
   "outputs": [],
   "source": [
    "## GRADED PART, DO NOT CHANGE!\n",
    "grader.set_answer(\"dLdHG\", ans_part6)"
   ]
  },
  {
   "cell_type": "code",
   "execution_count": null,
   "metadata": {
    "collapsed": true
   },
   "outputs": [],
   "source": [
    "grader.submit(COURSERA_EMAIL, COURSERA_TOKEN)"
   ]
  }
 ],
 "metadata": {
  "kernelspec": {
   "display_name": "Python 3",
   "language": "python",
   "name": "python3"
  },
  "language_info": {
   "codemirror_mode": {
    "name": "ipython",
    "version": 3
   },
   "file_extension": ".py",
   "mimetype": "text/x-python",
   "name": "python",
   "nbconvert_exporter": "python",
   "pygments_lexer": "ipython3",
   "version": "3.6.2"
  }
 },
 "nbformat": 4,
 "nbformat_minor": 1
}
